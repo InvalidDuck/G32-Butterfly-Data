{
  "nbformat": 4,
  "nbformat_minor": 0,
  "metadata": {
    "colab": {
      "name": "EV Vehicles Forecast.ipynb",
      "provenance": [],
      "collapsed_sections": []
    },
    "kernelspec": {
      "name": "python3",
      "display_name": "Python 3"
    },
    "language_info": {
      "name": "python"
    }
  },
  "cells": [
    {
      "cell_type": "markdown",
      "source": [
        "**Loading and Pre-Processing Data:**"
      ],
      "metadata": {
        "id": "GnNufDVuhUsp"
      }
    },
    {
      "cell_type": "code",
      "source": [
        "import pandas as pd\n",
        "import matplotlib.pyplot as plt"
      ],
      "metadata": {
        "id": "NDCLzZLXhTWs"
      },
      "execution_count": 2115,
      "outputs": []
    },
    {
      "cell_type": "code",
      "source": [
        "ev_data=pd.read_csv(\"licensed_plug-in cars_lgvs_and_quadricycles.csv\")"
      ],
      "metadata": {
        "id": "8_0K0zE8OQfw"
      },
      "execution_count": 2116,
      "outputs": []
    },
    {
      "cell_type": "code",
      "source": [
        "ev_data"
      ],
      "metadata": {
        "colab": {
          "base_uri": "https://localhost:8080/",
          "height": 303
        },
        "id": "agaTVkwaOVMM",
        "outputId": "fed42d2f-c07c-4bff-9c6f-bdcb0c5d0c41"
      },
      "execution_count": 2117,
      "outputs": [
        {
          "output_type": "execute_result",
          "data": {
            "text/plain": [
              "   Unnamed: 0 ONS LA Code Region/Local Authority   2021 Q3  2021 Q2  2021 Q1  \\\n",
              "0           0   K02000001          United Kingdom   621564   543517   468952   \n",
              "1           1   K03000001           Great Britain   613930   536948   463377   \n",
              "2           2   E92000001                 England   554656   485334   418207   \n",
              "3           3   E06000023        Bristol, City of     2405     2134     1881   \n",
              "\n",
              "   2020 Q4  2020 Q3  2020 Q2  2020 Q1  ...  2016 Q2  2016 Q1  2015 Q4  \\\n",
              "0   413645   355965   300983   283935  ...    70677    62779    52246   \n",
              "1   408857   351808   297356   280478  ...    69604    61797    51423   \n",
              "2   369263   317871   268373   255130  ...    63436    56119    46566   \n",
              "3     1747     1521     1306     1221  ...      498      424      350   \n",
              "\n",
              "   2015 Q3  2015 Q2  2015 Q1  2014 Q4  2014 Q3  2014 Q2  2014 Q1  \n",
              "0    45667    39588    34016    26004    20768    16018    13615  \n",
              "1    44937    38957    33502    25614    20466    15786    13426  \n",
              "2    40359    35148    30215    23075    18244    13961    11932  \n",
              "3      321      283      259      210      170      142      128  \n",
              "\n",
              "[4 rows x 34 columns]"
            ],
            "text/html": [
              "\n",
              "  <div id=\"df-b384b8b8-1f15-4eda-ae09-be41230db6a1\">\n",
              "    <div class=\"colab-df-container\">\n",
              "      <div>\n",
              "<style scoped>\n",
              "    .dataframe tbody tr th:only-of-type {\n",
              "        vertical-align: middle;\n",
              "    }\n",
              "\n",
              "    .dataframe tbody tr th {\n",
              "        vertical-align: top;\n",
              "    }\n",
              "\n",
              "    .dataframe thead th {\n",
              "        text-align: right;\n",
              "    }\n",
              "</style>\n",
              "<table border=\"1\" class=\"dataframe\">\n",
              "  <thead>\n",
              "    <tr style=\"text-align: right;\">\n",
              "      <th></th>\n",
              "      <th>Unnamed: 0</th>\n",
              "      <th>ONS LA Code</th>\n",
              "      <th>Region/Local Authority</th>\n",
              "      <th>2021 Q3</th>\n",
              "      <th>2021 Q2</th>\n",
              "      <th>2021 Q1</th>\n",
              "      <th>2020 Q4</th>\n",
              "      <th>2020 Q3</th>\n",
              "      <th>2020 Q2</th>\n",
              "      <th>2020 Q1</th>\n",
              "      <th>...</th>\n",
              "      <th>2016 Q2</th>\n",
              "      <th>2016 Q1</th>\n",
              "      <th>2015 Q4</th>\n",
              "      <th>2015 Q3</th>\n",
              "      <th>2015 Q2</th>\n",
              "      <th>2015 Q1</th>\n",
              "      <th>2014 Q4</th>\n",
              "      <th>2014 Q3</th>\n",
              "      <th>2014 Q2</th>\n",
              "      <th>2014 Q1</th>\n",
              "    </tr>\n",
              "  </thead>\n",
              "  <tbody>\n",
              "    <tr>\n",
              "      <th>0</th>\n",
              "      <td>0</td>\n",
              "      <td>K02000001</td>\n",
              "      <td>United Kingdom</td>\n",
              "      <td>621564</td>\n",
              "      <td>543517</td>\n",
              "      <td>468952</td>\n",
              "      <td>413645</td>\n",
              "      <td>355965</td>\n",
              "      <td>300983</td>\n",
              "      <td>283935</td>\n",
              "      <td>...</td>\n",
              "      <td>70677</td>\n",
              "      <td>62779</td>\n",
              "      <td>52246</td>\n",
              "      <td>45667</td>\n",
              "      <td>39588</td>\n",
              "      <td>34016</td>\n",
              "      <td>26004</td>\n",
              "      <td>20768</td>\n",
              "      <td>16018</td>\n",
              "      <td>13615</td>\n",
              "    </tr>\n",
              "    <tr>\n",
              "      <th>1</th>\n",
              "      <td>1</td>\n",
              "      <td>K03000001</td>\n",
              "      <td>Great Britain</td>\n",
              "      <td>613930</td>\n",
              "      <td>536948</td>\n",
              "      <td>463377</td>\n",
              "      <td>408857</td>\n",
              "      <td>351808</td>\n",
              "      <td>297356</td>\n",
              "      <td>280478</td>\n",
              "      <td>...</td>\n",
              "      <td>69604</td>\n",
              "      <td>61797</td>\n",
              "      <td>51423</td>\n",
              "      <td>44937</td>\n",
              "      <td>38957</td>\n",
              "      <td>33502</td>\n",
              "      <td>25614</td>\n",
              "      <td>20466</td>\n",
              "      <td>15786</td>\n",
              "      <td>13426</td>\n",
              "    </tr>\n",
              "    <tr>\n",
              "      <th>2</th>\n",
              "      <td>2</td>\n",
              "      <td>E92000001</td>\n",
              "      <td>England</td>\n",
              "      <td>554656</td>\n",
              "      <td>485334</td>\n",
              "      <td>418207</td>\n",
              "      <td>369263</td>\n",
              "      <td>317871</td>\n",
              "      <td>268373</td>\n",
              "      <td>255130</td>\n",
              "      <td>...</td>\n",
              "      <td>63436</td>\n",
              "      <td>56119</td>\n",
              "      <td>46566</td>\n",
              "      <td>40359</td>\n",
              "      <td>35148</td>\n",
              "      <td>30215</td>\n",
              "      <td>23075</td>\n",
              "      <td>18244</td>\n",
              "      <td>13961</td>\n",
              "      <td>11932</td>\n",
              "    </tr>\n",
              "    <tr>\n",
              "      <th>3</th>\n",
              "      <td>3</td>\n",
              "      <td>E06000023</td>\n",
              "      <td>Bristol, City of</td>\n",
              "      <td>2405</td>\n",
              "      <td>2134</td>\n",
              "      <td>1881</td>\n",
              "      <td>1747</td>\n",
              "      <td>1521</td>\n",
              "      <td>1306</td>\n",
              "      <td>1221</td>\n",
              "      <td>...</td>\n",
              "      <td>498</td>\n",
              "      <td>424</td>\n",
              "      <td>350</td>\n",
              "      <td>321</td>\n",
              "      <td>283</td>\n",
              "      <td>259</td>\n",
              "      <td>210</td>\n",
              "      <td>170</td>\n",
              "      <td>142</td>\n",
              "      <td>128</td>\n",
              "    </tr>\n",
              "  </tbody>\n",
              "</table>\n",
              "<p>4 rows × 34 columns</p>\n",
              "</div>\n",
              "      <button class=\"colab-df-convert\" onclick=\"convertToInteractive('df-b384b8b8-1f15-4eda-ae09-be41230db6a1')\"\n",
              "              title=\"Convert this dataframe to an interactive table.\"\n",
              "              style=\"display:none;\">\n",
              "        \n",
              "  <svg xmlns=\"http://www.w3.org/2000/svg\" height=\"24px\"viewBox=\"0 0 24 24\"\n",
              "       width=\"24px\">\n",
              "    <path d=\"M0 0h24v24H0V0z\" fill=\"none\"/>\n",
              "    <path d=\"M18.56 5.44l.94 2.06.94-2.06 2.06-.94-2.06-.94-.94-2.06-.94 2.06-2.06.94zm-11 1L8.5 8.5l.94-2.06 2.06-.94-2.06-.94L8.5 2.5l-.94 2.06-2.06.94zm10 10l.94 2.06.94-2.06 2.06-.94-2.06-.94-.94-2.06-.94 2.06-2.06.94z\"/><path d=\"M17.41 7.96l-1.37-1.37c-.4-.4-.92-.59-1.43-.59-.52 0-1.04.2-1.43.59L10.3 9.45l-7.72 7.72c-.78.78-.78 2.05 0 2.83L4 21.41c.39.39.9.59 1.41.59.51 0 1.02-.2 1.41-.59l7.78-7.78 2.81-2.81c.8-.78.8-2.07 0-2.86zM5.41 20L4 18.59l7.72-7.72 1.47 1.35L5.41 20z\"/>\n",
              "  </svg>\n",
              "      </button>\n",
              "      \n",
              "  <style>\n",
              "    .colab-df-container {\n",
              "      display:flex;\n",
              "      flex-wrap:wrap;\n",
              "      gap: 12px;\n",
              "    }\n",
              "\n",
              "    .colab-df-convert {\n",
              "      background-color: #E8F0FE;\n",
              "      border: none;\n",
              "      border-radius: 50%;\n",
              "      cursor: pointer;\n",
              "      display: none;\n",
              "      fill: #1967D2;\n",
              "      height: 32px;\n",
              "      padding: 0 0 0 0;\n",
              "      width: 32px;\n",
              "    }\n",
              "\n",
              "    .colab-df-convert:hover {\n",
              "      background-color: #E2EBFA;\n",
              "      box-shadow: 0px 1px 2px rgba(60, 64, 67, 0.3), 0px 1px 3px 1px rgba(60, 64, 67, 0.15);\n",
              "      fill: #174EA6;\n",
              "    }\n",
              "\n",
              "    [theme=dark] .colab-df-convert {\n",
              "      background-color: #3B4455;\n",
              "      fill: #D2E3FC;\n",
              "    }\n",
              "\n",
              "    [theme=dark] .colab-df-convert:hover {\n",
              "      background-color: #434B5C;\n",
              "      box-shadow: 0px 1px 3px 1px rgba(0, 0, 0, 0.15);\n",
              "      filter: drop-shadow(0px 1px 2px rgba(0, 0, 0, 0.3));\n",
              "      fill: #FFFFFF;\n",
              "    }\n",
              "  </style>\n",
              "\n",
              "      <script>\n",
              "        const buttonEl =\n",
              "          document.querySelector('#df-b384b8b8-1f15-4eda-ae09-be41230db6a1 button.colab-df-convert');\n",
              "        buttonEl.style.display =\n",
              "          google.colab.kernel.accessAllowed ? 'block' : 'none';\n",
              "\n",
              "        async function convertToInteractive(key) {\n",
              "          const element = document.querySelector('#df-b384b8b8-1f15-4eda-ae09-be41230db6a1');\n",
              "          const dataTable =\n",
              "            await google.colab.kernel.invokeFunction('convertToInteractive',\n",
              "                                                     [key], {});\n",
              "          if (!dataTable) return;\n",
              "\n",
              "          const docLinkHtml = 'Like what you see? Visit the ' +\n",
              "            '<a target=\"_blank\" href=https://colab.research.google.com/notebooks/data_table.ipynb>data table notebook</a>'\n",
              "            + ' to learn more about interactive tables.';\n",
              "          element.innerHTML = '';\n",
              "          dataTable['output_type'] = 'display_data';\n",
              "          await google.colab.output.renderOutput(dataTable, element);\n",
              "          const docLink = document.createElement('div');\n",
              "          docLink.innerHTML = docLinkHtml;\n",
              "          element.appendChild(docLink);\n",
              "        }\n",
              "      </script>\n",
              "    </div>\n",
              "  </div>\n",
              "  "
            ]
          },
          "metadata": {},
          "execution_count": 2117
        }
      ]
    },
    {
      "cell_type": "code",
      "source": [
        "ev_data=ev_data.T"
      ],
      "metadata": {
        "id": "72JumPKkOXTi"
      },
      "execution_count": 2118,
      "outputs": []
    },
    {
      "cell_type": "code",
      "source": [
        "ev_data=ev_data.iloc[3:34,3]"
      ],
      "metadata": {
        "id": "vLwoi1HCOZYm"
      },
      "execution_count": 2119,
      "outputs": []
    },
    {
      "cell_type": "code",
      "source": [
        "ev_data.sort_index(inplace=True)"
      ],
      "metadata": {
        "id": "Zh5i-KcrObsX"
      },
      "execution_count": 2120,
      "outputs": []
    },
    {
      "cell_type": "code",
      "source": [
        "ev_data=ev_data.to_frame()"
      ],
      "metadata": {
        "id": "teEVYqa_Odhj"
      },
      "execution_count": 2121,
      "outputs": []
    },
    {
      "cell_type": "code",
      "source": [
        "ev_data.columns=['EV Count']"
      ],
      "metadata": {
        "id": "IEDb_X-eOgpt"
      },
      "execution_count": 2122,
      "outputs": []
    },
    {
      "cell_type": "code",
      "source": [
        "import plotly.express as px\n",
        "fig = px.line(ev_data, x=ev_data.index, y=ev_data['EV Count'],labels={'index':'Quarters','y':'No. of Licensed Plug-in cars, LGVs and Quadricycles'},title=\"Licensed Battery Electric, Plug-In Hybrid Electric and Range-Extended Electric Vehicles Each Year\")\n",
        "fig.update_layout(plot_bgcolor=\"white\")\n",
        "fig.update_traces(\n",
        "    mode='markers+lines',\n",
        "    marker=dict(color='#FFC048', size=8),\n",
        "    line=dict(color='#FFC048', width=2),)\n",
        "#fig.update_xaxes(showgrid=True, gridwidth=-0, gridcolor='rgb(3,153,153)')\n",
        "fig.update_yaxes(showgrid=True, gridwidth=0, gridcolor='rgb(230,230,230)')\n",
        "fig.show()"
      ],
      "metadata": {
        "colab": {
          "base_uri": "https://localhost:8080/",
          "height": 542
        },
        "id": "bp8ZXkWOOkjz",
        "outputId": "6c14b0d8-1762-4cc7-b7cc-0f9e6008c8fc"
      },
      "execution_count": 2123,
      "outputs": [
        {
          "output_type": "display_data",
          "data": {
            "text/html": [
              "<html>\n",
              "<head><meta charset=\"utf-8\" /></head>\n",
              "<body>\n",
              "    <div>            <script src=\"https://cdnjs.cloudflare.com/ajax/libs/mathjax/2.7.5/MathJax.js?config=TeX-AMS-MML_SVG\"></script><script type=\"text/javascript\">if (window.MathJax) {MathJax.Hub.Config({SVG: {font: \"STIX-Web\"}});}</script>                <script type=\"text/javascript\">window.PlotlyConfig = {MathJaxConfig: 'local'};</script>\n",
              "        <script src=\"https://cdn.plot.ly/plotly-2.8.3.min.js\"></script>                <div id=\"bd8a5696-97a4-4390-8c3a-bab17c28257b\" class=\"plotly-graph-div\" style=\"height:525px; width:100%;\"></div>            <script type=\"text/javascript\">                                    window.PLOTLYENV=window.PLOTLYENV || {};                                    if (document.getElementById(\"bd8a5696-97a4-4390-8c3a-bab17c28257b\")) {                    Plotly.newPlot(                        \"bd8a5696-97a4-4390-8c3a-bab17c28257b\",                        [{\"hovertemplate\":\"Quarters=%{x}<br>EV Count=%{y}<extra></extra>\",\"legendgroup\":\"\",\"line\":{\"color\":\"#FFC048\",\"dash\":\"solid\",\"width\":2},\"marker\":{\"symbol\":\"circle\",\"color\":\"#FFC048\",\"size\":8},\"mode\":\"markers+lines\",\"name\":\"\",\"orientation\":\"v\",\"showlegend\":false,\"x\":[\"2014 Q1\",\"2014 Q2\",\"2014 Q3\",\"2014 Q4\",\"2015 Q1\",\"2015 Q2\",\"2015 Q3\",\"2015 Q4\",\"2016 Q1\",\"2016 Q2\",\"2016 Q3\",\"2016 Q4\",\"2017 Q1\",\"2017 Q2\",\"2017 Q3\",\"2017 Q4\",\"2018 Q1\",\"2018 Q2\",\"2018 Q3\",\"2018 Q4\",\"2019 Q1\",\"2019 Q2\",\"2019 Q3\",\"2019 Q4\",\"2020 Q1\",\"2020 Q2\",\"2020 Q3\",\"2020 Q4\",\"2021 Q1\",\"2021 Q2\",\"2021 Q3\"],\"xaxis\":\"x\",\"y\":[128,142,170,210,259,283,321,350,424,498,571,668,786,841,567,465,548,608,641,693,744,811,925,1057,1221,1306,1521,1747,1881,2134,2405],\"yaxis\":\"y\",\"type\":\"scatter\"}],                        {\"template\":{\"data\":{\"bar\":[{\"error_x\":{\"color\":\"#2a3f5f\"},\"error_y\":{\"color\":\"#2a3f5f\"},\"marker\":{\"line\":{\"color\":\"#E5ECF6\",\"width\":0.5},\"pattern\":{\"fillmode\":\"overlay\",\"size\":10,\"solidity\":0.2}},\"type\":\"bar\"}],\"barpolar\":[{\"marker\":{\"line\":{\"color\":\"#E5ECF6\",\"width\":0.5},\"pattern\":{\"fillmode\":\"overlay\",\"size\":10,\"solidity\":0.2}},\"type\":\"barpolar\"}],\"carpet\":[{\"aaxis\":{\"endlinecolor\":\"#2a3f5f\",\"gridcolor\":\"white\",\"linecolor\":\"white\",\"minorgridcolor\":\"white\",\"startlinecolor\":\"#2a3f5f\"},\"baxis\":{\"endlinecolor\":\"#2a3f5f\",\"gridcolor\":\"white\",\"linecolor\":\"white\",\"minorgridcolor\":\"white\",\"startlinecolor\":\"#2a3f5f\"},\"type\":\"carpet\"}],\"choropleth\":[{\"colorbar\":{\"outlinewidth\":0,\"ticks\":\"\"},\"type\":\"choropleth\"}],\"contour\":[{\"colorbar\":{\"outlinewidth\":0,\"ticks\":\"\"},\"colorscale\":[[0.0,\"#0d0887\"],[0.1111111111111111,\"#46039f\"],[0.2222222222222222,\"#7201a8\"],[0.3333333333333333,\"#9c179e\"],[0.4444444444444444,\"#bd3786\"],[0.5555555555555556,\"#d8576b\"],[0.6666666666666666,\"#ed7953\"],[0.7777777777777778,\"#fb9f3a\"],[0.8888888888888888,\"#fdca26\"],[1.0,\"#f0f921\"]],\"type\":\"contour\"}],\"contourcarpet\":[{\"colorbar\":{\"outlinewidth\":0,\"ticks\":\"\"},\"type\":\"contourcarpet\"}],\"heatmap\":[{\"colorbar\":{\"outlinewidth\":0,\"ticks\":\"\"},\"colorscale\":[[0.0,\"#0d0887\"],[0.1111111111111111,\"#46039f\"],[0.2222222222222222,\"#7201a8\"],[0.3333333333333333,\"#9c179e\"],[0.4444444444444444,\"#bd3786\"],[0.5555555555555556,\"#d8576b\"],[0.6666666666666666,\"#ed7953\"],[0.7777777777777778,\"#fb9f3a\"],[0.8888888888888888,\"#fdca26\"],[1.0,\"#f0f921\"]],\"type\":\"heatmap\"}],\"heatmapgl\":[{\"colorbar\":{\"outlinewidth\":0,\"ticks\":\"\"},\"colorscale\":[[0.0,\"#0d0887\"],[0.1111111111111111,\"#46039f\"],[0.2222222222222222,\"#7201a8\"],[0.3333333333333333,\"#9c179e\"],[0.4444444444444444,\"#bd3786\"],[0.5555555555555556,\"#d8576b\"],[0.6666666666666666,\"#ed7953\"],[0.7777777777777778,\"#fb9f3a\"],[0.8888888888888888,\"#fdca26\"],[1.0,\"#f0f921\"]],\"type\":\"heatmapgl\"}],\"histogram\":[{\"marker\":{\"pattern\":{\"fillmode\":\"overlay\",\"size\":10,\"solidity\":0.2}},\"type\":\"histogram\"}],\"histogram2d\":[{\"colorbar\":{\"outlinewidth\":0,\"ticks\":\"\"},\"colorscale\":[[0.0,\"#0d0887\"],[0.1111111111111111,\"#46039f\"],[0.2222222222222222,\"#7201a8\"],[0.3333333333333333,\"#9c179e\"],[0.4444444444444444,\"#bd3786\"],[0.5555555555555556,\"#d8576b\"],[0.6666666666666666,\"#ed7953\"],[0.7777777777777778,\"#fb9f3a\"],[0.8888888888888888,\"#fdca26\"],[1.0,\"#f0f921\"]],\"type\":\"histogram2d\"}],\"histogram2dcontour\":[{\"colorbar\":{\"outlinewidth\":0,\"ticks\":\"\"},\"colorscale\":[[0.0,\"#0d0887\"],[0.1111111111111111,\"#46039f\"],[0.2222222222222222,\"#7201a8\"],[0.3333333333333333,\"#9c179e\"],[0.4444444444444444,\"#bd3786\"],[0.5555555555555556,\"#d8576b\"],[0.6666666666666666,\"#ed7953\"],[0.7777777777777778,\"#fb9f3a\"],[0.8888888888888888,\"#fdca26\"],[1.0,\"#f0f921\"]],\"type\":\"histogram2dcontour\"}],\"mesh3d\":[{\"colorbar\":{\"outlinewidth\":0,\"ticks\":\"\"},\"type\":\"mesh3d\"}],\"parcoords\":[{\"line\":{\"colorbar\":{\"outlinewidth\":0,\"ticks\":\"\"}},\"type\":\"parcoords\"}],\"pie\":[{\"automargin\":true,\"type\":\"pie\"}],\"scatter\":[{\"marker\":{\"colorbar\":{\"outlinewidth\":0,\"ticks\":\"\"}},\"type\":\"scatter\"}],\"scatter3d\":[{\"line\":{\"colorbar\":{\"outlinewidth\":0,\"ticks\":\"\"}},\"marker\":{\"colorbar\":{\"outlinewidth\":0,\"ticks\":\"\"}},\"type\":\"scatter3d\"}],\"scattercarpet\":[{\"marker\":{\"colorbar\":{\"outlinewidth\":0,\"ticks\":\"\"}},\"type\":\"scattercarpet\"}],\"scattergeo\":[{\"marker\":{\"colorbar\":{\"outlinewidth\":0,\"ticks\":\"\"}},\"type\":\"scattergeo\"}],\"scattergl\":[{\"marker\":{\"colorbar\":{\"outlinewidth\":0,\"ticks\":\"\"}},\"type\":\"scattergl\"}],\"scattermapbox\":[{\"marker\":{\"colorbar\":{\"outlinewidth\":0,\"ticks\":\"\"}},\"type\":\"scattermapbox\"}],\"scatterpolar\":[{\"marker\":{\"colorbar\":{\"outlinewidth\":0,\"ticks\":\"\"}},\"type\":\"scatterpolar\"}],\"scatterpolargl\":[{\"marker\":{\"colorbar\":{\"outlinewidth\":0,\"ticks\":\"\"}},\"type\":\"scatterpolargl\"}],\"scatterternary\":[{\"marker\":{\"colorbar\":{\"outlinewidth\":0,\"ticks\":\"\"}},\"type\":\"scatterternary\"}],\"surface\":[{\"colorbar\":{\"outlinewidth\":0,\"ticks\":\"\"},\"colorscale\":[[0.0,\"#0d0887\"],[0.1111111111111111,\"#46039f\"],[0.2222222222222222,\"#7201a8\"],[0.3333333333333333,\"#9c179e\"],[0.4444444444444444,\"#bd3786\"],[0.5555555555555556,\"#d8576b\"],[0.6666666666666666,\"#ed7953\"],[0.7777777777777778,\"#fb9f3a\"],[0.8888888888888888,\"#fdca26\"],[1.0,\"#f0f921\"]],\"type\":\"surface\"}],\"table\":[{\"cells\":{\"fill\":{\"color\":\"#EBF0F8\"},\"line\":{\"color\":\"white\"}},\"header\":{\"fill\":{\"color\":\"#C8D4E3\"},\"line\":{\"color\":\"white\"}},\"type\":\"table\"}]},\"layout\":{\"annotationdefaults\":{\"arrowcolor\":\"#2a3f5f\",\"arrowhead\":0,\"arrowwidth\":1},\"autotypenumbers\":\"strict\",\"coloraxis\":{\"colorbar\":{\"outlinewidth\":0,\"ticks\":\"\"}},\"colorscale\":{\"diverging\":[[0,\"#8e0152\"],[0.1,\"#c51b7d\"],[0.2,\"#de77ae\"],[0.3,\"#f1b6da\"],[0.4,\"#fde0ef\"],[0.5,\"#f7f7f7\"],[0.6,\"#e6f5d0\"],[0.7,\"#b8e186\"],[0.8,\"#7fbc41\"],[0.9,\"#4d9221\"],[1,\"#276419\"]],\"sequential\":[[0.0,\"#0d0887\"],[0.1111111111111111,\"#46039f\"],[0.2222222222222222,\"#7201a8\"],[0.3333333333333333,\"#9c179e\"],[0.4444444444444444,\"#bd3786\"],[0.5555555555555556,\"#d8576b\"],[0.6666666666666666,\"#ed7953\"],[0.7777777777777778,\"#fb9f3a\"],[0.8888888888888888,\"#fdca26\"],[1.0,\"#f0f921\"]],\"sequentialminus\":[[0.0,\"#0d0887\"],[0.1111111111111111,\"#46039f\"],[0.2222222222222222,\"#7201a8\"],[0.3333333333333333,\"#9c179e\"],[0.4444444444444444,\"#bd3786\"],[0.5555555555555556,\"#d8576b\"],[0.6666666666666666,\"#ed7953\"],[0.7777777777777778,\"#fb9f3a\"],[0.8888888888888888,\"#fdca26\"],[1.0,\"#f0f921\"]]},\"colorway\":[\"#636efa\",\"#EF553B\",\"#00cc96\",\"#ab63fa\",\"#FFA15A\",\"#19d3f3\",\"#FF6692\",\"#B6E880\",\"#FF97FF\",\"#FECB52\"],\"font\":{\"color\":\"#2a3f5f\"},\"geo\":{\"bgcolor\":\"white\",\"lakecolor\":\"white\",\"landcolor\":\"#E5ECF6\",\"showlakes\":true,\"showland\":true,\"subunitcolor\":\"white\"},\"hoverlabel\":{\"align\":\"left\"},\"hovermode\":\"closest\",\"mapbox\":{\"style\":\"light\"},\"paper_bgcolor\":\"white\",\"plot_bgcolor\":\"#E5ECF6\",\"polar\":{\"angularaxis\":{\"gridcolor\":\"white\",\"linecolor\":\"white\",\"ticks\":\"\"},\"bgcolor\":\"#E5ECF6\",\"radialaxis\":{\"gridcolor\":\"white\",\"linecolor\":\"white\",\"ticks\":\"\"}},\"scene\":{\"xaxis\":{\"backgroundcolor\":\"#E5ECF6\",\"gridcolor\":\"white\",\"gridwidth\":2,\"linecolor\":\"white\",\"showbackground\":true,\"ticks\":\"\",\"zerolinecolor\":\"white\"},\"yaxis\":{\"backgroundcolor\":\"#E5ECF6\",\"gridcolor\":\"white\",\"gridwidth\":2,\"linecolor\":\"white\",\"showbackground\":true,\"ticks\":\"\",\"zerolinecolor\":\"white\"},\"zaxis\":{\"backgroundcolor\":\"#E5ECF6\",\"gridcolor\":\"white\",\"gridwidth\":2,\"linecolor\":\"white\",\"showbackground\":true,\"ticks\":\"\",\"zerolinecolor\":\"white\"}},\"shapedefaults\":{\"line\":{\"color\":\"#2a3f5f\"}},\"ternary\":{\"aaxis\":{\"gridcolor\":\"white\",\"linecolor\":\"white\",\"ticks\":\"\"},\"baxis\":{\"gridcolor\":\"white\",\"linecolor\":\"white\",\"ticks\":\"\"},\"bgcolor\":\"#E5ECF6\",\"caxis\":{\"gridcolor\":\"white\",\"linecolor\":\"white\",\"ticks\":\"\"}},\"title\":{\"x\":0.05},\"xaxis\":{\"automargin\":true,\"gridcolor\":\"white\",\"linecolor\":\"white\",\"ticks\":\"\",\"title\":{\"standoff\":15},\"zerolinecolor\":\"white\",\"zerolinewidth\":2},\"yaxis\":{\"automargin\":true,\"gridcolor\":\"white\",\"linecolor\":\"white\",\"ticks\":\"\",\"title\":{\"standoff\":15},\"zerolinecolor\":\"white\",\"zerolinewidth\":2}}},\"xaxis\":{\"anchor\":\"y\",\"domain\":[0.0,1.0],\"title\":{\"text\":\"Quarters\"}},\"yaxis\":{\"anchor\":\"x\",\"domain\":[0.0,1.0],\"title\":{\"text\":\"EV Count\"},\"showgrid\":true,\"gridwidth\":0,\"gridcolor\":\"rgb(230,230,230)\"},\"legend\":{\"tracegroupgap\":0},\"title\":{\"text\":\"Licensed Battery Electric, Plug-In Hybrid Electric and Range-Extended Electric Vehicles Each Year\"},\"plot_bgcolor\":\"white\"},                        {\"responsive\": true}                    ).then(function(){\n",
              "                            \n",
              "var gd = document.getElementById('bd8a5696-97a4-4390-8c3a-bab17c28257b');\n",
              "var x = new MutationObserver(function (mutations, observer) {{\n",
              "        var display = window.getComputedStyle(gd).display;\n",
              "        if (!display || display === 'none') {{\n",
              "            console.log([gd, 'removed!']);\n",
              "            Plotly.purge(gd);\n",
              "            observer.disconnect();\n",
              "        }}\n",
              "}});\n",
              "\n",
              "// Listen for the removal of the full notebook cells\n",
              "var notebookContainer = gd.closest('#notebook-container');\n",
              "if (notebookContainer) {{\n",
              "    x.observe(notebookContainer, {childList: true});\n",
              "}}\n",
              "\n",
              "// Listen for the clearing of the current output cell\n",
              "var outputEl = gd.closest('.output');\n",
              "if (outputEl) {{\n",
              "    x.observe(outputEl, {childList: true});\n",
              "}}\n",
              "\n",
              "                        })                };                            </script>        </div>\n",
              "</body>\n",
              "</html>"
            ]
          },
          "metadata": {}
        }
      ]
    },
    {
      "cell_type": "code",
      "source": [
        "ev_data.reset_index(inplace=True)"
      ],
      "metadata": {
        "id": "dRlXTq21fr-a"
      },
      "execution_count": 2124,
      "outputs": []
    },
    {
      "cell_type": "code",
      "source": [
        "ev_data.rename(columns={'index':'Quarter'},inplace=True)"
      ],
      "metadata": {
        "id": "eH04cBg8l_mt"
      },
      "execution_count": 2125,
      "outputs": []
    },
    {
      "cell_type": "code",
      "source": [
        "ev_data['date'] = pd.to_datetime(ev_data['Quarter'].str[0:4] + ev_data['Quarter'].str[5:7])"
      ],
      "metadata": {
        "id": "RmsAcbD3jesF"
      },
      "execution_count": 2126,
      "outputs": []
    },
    {
      "cell_type": "code",
      "source": [
        "from fbprophet import Prophet"
      ],
      "metadata": {
        "id": "j5OPczCBmdCC"
      },
      "execution_count": 2127,
      "outputs": []
    },
    {
      "cell_type": "code",
      "source": [
        "ev_data_fb=ev_data[['date','EV Count']]"
      ],
      "metadata": {
        "id": "BNbKMNfrnDqN"
      },
      "execution_count": 2128,
      "outputs": []
    },
    {
      "cell_type": "code",
      "source": [
        "ev_data_fb.rename(columns={'date':'ds','EV Count':'y'},inplace=True)"
      ],
      "metadata": {
        "colab": {
          "base_uri": "https://localhost:8080/"
        },
        "id": "lNLpU4pDnz5T",
        "outputId": "887cd3e0-02d7-4dc2-e6c3-dc286b2f97f4"
      },
      "execution_count": 2129,
      "outputs": [
        {
          "output_type": "stream",
          "name": "stderr",
          "text": [
            "/usr/local/lib/python3.7/dist-packages/pandas/core/frame.py:5047: SettingWithCopyWarning:\n",
            "\n",
            "\n",
            "A value is trying to be set on a copy of a slice from a DataFrame\n",
            "\n",
            "See the caveats in the documentation: https://pandas.pydata.org/pandas-docs/stable/user_guide/indexing.html#returning-a-view-versus-a-copy\n",
            "\n"
          ]
        }
      ]
    },
    {
      "cell_type": "code",
      "source": [
        "train_ev_data_fb=ev_data_fb.loc[16:26,:] # excluding outliers\n",
        "test_ev_data_fb=ev_data_fb.loc[27:,:]"
      ],
      "metadata": {
        "id": "gF0a1FyooI4u"
      },
      "execution_count": 2130,
      "outputs": []
    },
    {
      "cell_type": "code",
      "source": [
        "train_ev_data_fb"
      ],
      "metadata": {
        "colab": {
          "base_uri": "https://localhost:8080/",
          "height": 394
        },
        "id": "Es7-SjoBCdko",
        "outputId": "e9c7b003-0e43-4e0b-bff3-77c8ff572286"
      },
      "execution_count": 2131,
      "outputs": [
        {
          "output_type": "execute_result",
          "data": {
            "text/plain": [
              "           ds     y\n",
              "16 2018-01-01   548\n",
              "17 2018-04-01   608\n",
              "18 2018-07-01   641\n",
              "19 2018-10-01   693\n",
              "20 2019-01-01   744\n",
              "21 2019-04-01   811\n",
              "22 2019-07-01   925\n",
              "23 2019-10-01  1057\n",
              "24 2020-01-01  1221\n",
              "25 2020-04-01  1306\n",
              "26 2020-07-01  1521"
            ],
            "text/html": [
              "\n",
              "  <div id=\"df-99e1e76b-60f9-4508-a586-f3fe35eab1a7\">\n",
              "    <div class=\"colab-df-container\">\n",
              "      <div>\n",
              "<style scoped>\n",
              "    .dataframe tbody tr th:only-of-type {\n",
              "        vertical-align: middle;\n",
              "    }\n",
              "\n",
              "    .dataframe tbody tr th {\n",
              "        vertical-align: top;\n",
              "    }\n",
              "\n",
              "    .dataframe thead th {\n",
              "        text-align: right;\n",
              "    }\n",
              "</style>\n",
              "<table border=\"1\" class=\"dataframe\">\n",
              "  <thead>\n",
              "    <tr style=\"text-align: right;\">\n",
              "      <th></th>\n",
              "      <th>ds</th>\n",
              "      <th>y</th>\n",
              "    </tr>\n",
              "  </thead>\n",
              "  <tbody>\n",
              "    <tr>\n",
              "      <th>16</th>\n",
              "      <td>2018-01-01</td>\n",
              "      <td>548</td>\n",
              "    </tr>\n",
              "    <tr>\n",
              "      <th>17</th>\n",
              "      <td>2018-04-01</td>\n",
              "      <td>608</td>\n",
              "    </tr>\n",
              "    <tr>\n",
              "      <th>18</th>\n",
              "      <td>2018-07-01</td>\n",
              "      <td>641</td>\n",
              "    </tr>\n",
              "    <tr>\n",
              "      <th>19</th>\n",
              "      <td>2018-10-01</td>\n",
              "      <td>693</td>\n",
              "    </tr>\n",
              "    <tr>\n",
              "      <th>20</th>\n",
              "      <td>2019-01-01</td>\n",
              "      <td>744</td>\n",
              "    </tr>\n",
              "    <tr>\n",
              "      <th>21</th>\n",
              "      <td>2019-04-01</td>\n",
              "      <td>811</td>\n",
              "    </tr>\n",
              "    <tr>\n",
              "      <th>22</th>\n",
              "      <td>2019-07-01</td>\n",
              "      <td>925</td>\n",
              "    </tr>\n",
              "    <tr>\n",
              "      <th>23</th>\n",
              "      <td>2019-10-01</td>\n",
              "      <td>1057</td>\n",
              "    </tr>\n",
              "    <tr>\n",
              "      <th>24</th>\n",
              "      <td>2020-01-01</td>\n",
              "      <td>1221</td>\n",
              "    </tr>\n",
              "    <tr>\n",
              "      <th>25</th>\n",
              "      <td>2020-04-01</td>\n",
              "      <td>1306</td>\n",
              "    </tr>\n",
              "    <tr>\n",
              "      <th>26</th>\n",
              "      <td>2020-07-01</td>\n",
              "      <td>1521</td>\n",
              "    </tr>\n",
              "  </tbody>\n",
              "</table>\n",
              "</div>\n",
              "      <button class=\"colab-df-convert\" onclick=\"convertToInteractive('df-99e1e76b-60f9-4508-a586-f3fe35eab1a7')\"\n",
              "              title=\"Convert this dataframe to an interactive table.\"\n",
              "              style=\"display:none;\">\n",
              "        \n",
              "  <svg xmlns=\"http://www.w3.org/2000/svg\" height=\"24px\"viewBox=\"0 0 24 24\"\n",
              "       width=\"24px\">\n",
              "    <path d=\"M0 0h24v24H0V0z\" fill=\"none\"/>\n",
              "    <path d=\"M18.56 5.44l.94 2.06.94-2.06 2.06-.94-2.06-.94-.94-2.06-.94 2.06-2.06.94zm-11 1L8.5 8.5l.94-2.06 2.06-.94-2.06-.94L8.5 2.5l-.94 2.06-2.06.94zm10 10l.94 2.06.94-2.06 2.06-.94-2.06-.94-.94-2.06-.94 2.06-2.06.94z\"/><path d=\"M17.41 7.96l-1.37-1.37c-.4-.4-.92-.59-1.43-.59-.52 0-1.04.2-1.43.59L10.3 9.45l-7.72 7.72c-.78.78-.78 2.05 0 2.83L4 21.41c.39.39.9.59 1.41.59.51 0 1.02-.2 1.41-.59l7.78-7.78 2.81-2.81c.8-.78.8-2.07 0-2.86zM5.41 20L4 18.59l7.72-7.72 1.47 1.35L5.41 20z\"/>\n",
              "  </svg>\n",
              "      </button>\n",
              "      \n",
              "  <style>\n",
              "    .colab-df-container {\n",
              "      display:flex;\n",
              "      flex-wrap:wrap;\n",
              "      gap: 12px;\n",
              "    }\n",
              "\n",
              "    .colab-df-convert {\n",
              "      background-color: #E8F0FE;\n",
              "      border: none;\n",
              "      border-radius: 50%;\n",
              "      cursor: pointer;\n",
              "      display: none;\n",
              "      fill: #1967D2;\n",
              "      height: 32px;\n",
              "      padding: 0 0 0 0;\n",
              "      width: 32px;\n",
              "    }\n",
              "\n",
              "    .colab-df-convert:hover {\n",
              "      background-color: #E2EBFA;\n",
              "      box-shadow: 0px 1px 2px rgba(60, 64, 67, 0.3), 0px 1px 3px 1px rgba(60, 64, 67, 0.15);\n",
              "      fill: #174EA6;\n",
              "    }\n",
              "\n",
              "    [theme=dark] .colab-df-convert {\n",
              "      background-color: #3B4455;\n",
              "      fill: #D2E3FC;\n",
              "    }\n",
              "\n",
              "    [theme=dark] .colab-df-convert:hover {\n",
              "      background-color: #434B5C;\n",
              "      box-shadow: 0px 1px 3px 1px rgba(0, 0, 0, 0.15);\n",
              "      filter: drop-shadow(0px 1px 2px rgba(0, 0, 0, 0.3));\n",
              "      fill: #FFFFFF;\n",
              "    }\n",
              "  </style>\n",
              "\n",
              "      <script>\n",
              "        const buttonEl =\n",
              "          document.querySelector('#df-99e1e76b-60f9-4508-a586-f3fe35eab1a7 button.colab-df-convert');\n",
              "        buttonEl.style.display =\n",
              "          google.colab.kernel.accessAllowed ? 'block' : 'none';\n",
              "\n",
              "        async function convertToInteractive(key) {\n",
              "          const element = document.querySelector('#df-99e1e76b-60f9-4508-a586-f3fe35eab1a7');\n",
              "          const dataTable =\n",
              "            await google.colab.kernel.invokeFunction('convertToInteractive',\n",
              "                                                     [key], {});\n",
              "          if (!dataTable) return;\n",
              "\n",
              "          const docLinkHtml = 'Like what you see? Visit the ' +\n",
              "            '<a target=\"_blank\" href=https://colab.research.google.com/notebooks/data_table.ipynb>data table notebook</a>'\n",
              "            + ' to learn more about interactive tables.';\n",
              "          element.innerHTML = '';\n",
              "          dataTable['output_type'] = 'display_data';\n",
              "          await google.colab.output.renderOutput(dataTable, element);\n",
              "          const docLink = document.createElement('div');\n",
              "          docLink.innerHTML = docLinkHtml;\n",
              "          element.appendChild(docLink);\n",
              "        }\n",
              "      </script>\n",
              "    </div>\n",
              "  </div>\n",
              "  "
            ]
          },
          "metadata": {},
          "execution_count": 2131
        }
      ]
    },
    {
      "cell_type": "markdown",
      "source": [
        "**Creating and Testing FBProp Model**:"
      ],
      "metadata": {
        "id": "Y355Rz8Hhl5J"
      }
    },
    {
      "cell_type": "code",
      "source": [
        "model_fb_xg=Prophet(seasonality_prior_scale=0.1) #9\n",
        "model_fb_xg.fit(train_ev_data_fb)"
      ],
      "metadata": {
        "colab": {
          "base_uri": "https://localhost:8080/"
        },
        "id": "XpBc5dvLpIu7",
        "outputId": "b4ee3d7c-4fb2-481f-9242-56dc9b2e177b"
      },
      "execution_count": 2132,
      "outputs": [
        {
          "output_type": "stream",
          "name": "stderr",
          "text": [
            "INFO:fbprophet:Disabling weekly seasonality. Run prophet with weekly_seasonality=True to override this.\n",
            "INFO:fbprophet:Disabling daily seasonality. Run prophet with daily_seasonality=True to override this.\n",
            "INFO:fbprophet:n_changepoints greater than number of observations. Using 7.\n"
          ]
        },
        {
          "output_type": "execute_result",
          "data": {
            "text/plain": [
              "<fbprophet.forecaster.Prophet at 0x7f2e6c3e1c90>"
            ]
          },
          "metadata": {},
          "execution_count": 2132
        }
      ]
    },
    {
      "cell_type": "code",
      "source": [
        "forecast_fb_xg=model_fb_xg.predict(test_ev_data_fb)\n",
        "comparision_data_fb_xg=pd.DataFrame(index=test_ev_data_fb.index)\n",
        "forecast_fb_xg.index=test_ev_data_fb.index\n",
        "comparision_data_fb_xg['Predicted EV Count']=forecast_fb_xg['yhat']\n",
        "comparision_data_fb_xg['Actual EV Count']=test_ev_data_fb['y']\n",
        "comparision_data_fb_xg.index=forecast_fb_xg.ds"
      ],
      "metadata": {
        "id": "35xNzVN0rHQi"
      },
      "execution_count": 2133,
      "outputs": []
    },
    {
      "cell_type": "code",
      "source": [
        "fig2=comparision_data_fb_xg['Predicted EV Count'].plot(legend=True, color='red', figsize=(10,4))\n",
        "fig2=comparision_data_fb_xg['Actual EV Count'].plot(legend=True, color='blue')\n",
        "plt.title(\"FBProphet:Test Data Predictions\")\n",
        "plt.show()"
      ],
      "metadata": {
        "colab": {
          "base_uri": "https://localhost:8080/",
          "height": 307
        },
        "id": "NqLWk9SErquk",
        "outputId": "98288732-c1fe-4ac5-e6c2-28b7a929517e"
      },
      "execution_count": 2134,
      "outputs": [
        {
          "output_type": "display_data",
          "data": {
            "text/plain": [
              "<Figure size 720x288 with 1 Axes>"
            ],
            "image/png": "[encoded data removed]"
          },
          "metadata": {
            "needs_background": "light"
          }
        }
      ]
    },
    {
      "cell_type": "code",
      "source": [
        "from sklearn.metrics import mean_squared_error\n",
        "from math import sqrt"
      ],
      "metadata": {
        "id": "cnoB_VbAr5te"
      },
      "execution_count": 2135,
      "outputs": []
    },
    {
      "cell_type": "code",
      "source": [
        "rms_fb_xg=sqrt(mean_squared_error(comparision_data_fb_xg['Actual EV Count'],comparision_data_fb_xg['Predicted EV Count']))"
      ],
      "metadata": {
        "id": "9lEyltsKr7DF"
      },
      "execution_count": 2136,
      "outputs": []
    },
    {
      "cell_type": "code",
      "source": [
        "rms_fb_xg"
      ],
      "metadata": {
        "colab": {
          "base_uri": "https://localhost:8080/"
        },
        "id": "WZ0s9xM_sEPN",
        "outputId": "0c2e9d9b-694a-4809-81bf-61e290db1ff9"
      },
      "execution_count": 2137,
      "outputs": [
        {
          "output_type": "execute_result",
          "data": {
            "text/plain": [
              "451.21198991643735"
            ]
          },
          "metadata": {},
          "execution_count": 2137
        }
      ]
    },
    {
      "cell_type": "code",
      "source": [
        "import numpy as np\n",
        "rmsp_fb_xg=(np.sqrt(np.mean(np.square((comparision_data_fb_xg['Actual EV Count'] -comparision_data_fb_xg['Predicted EV Count']) /comparision_data_fb_xg['Actual EV Count'])))) * 100\n",
        "print(rmsp_fb_xg.round(1),'%')"
      ],
      "metadata": {
        "colab": {
          "base_uri": "https://localhost:8080/"
        },
        "id": "Pc4u3ncftMJE",
        "outputId": "9ef4e777-d4c8-4e7d-d00a-00c2f522aa8f"
      },
      "execution_count": 2138,
      "outputs": [
        {
          "output_type": "stream",
          "name": "stdout",
          "text": [
            "21.0 %\n"
          ]
        }
      ]
    },
    {
      "cell_type": "markdown",
      "source": [
        "**Final Training:**"
      ],
      "metadata": {
        "id": "WhmDsbezh6VK"
      }
    },
    {
      "cell_type": "code",
      "source": [
        "train_ev_data_fb_final=ev_data_fb.loc[21:30,:] # excluding outliers"
      ],
      "metadata": {
        "id": "HfLVTFGIBOvs"
      },
      "execution_count": 2139,
      "outputs": []
    },
    {
      "cell_type": "code",
      "source": [
        "model_fb_final=Prophet(seasonality_prior_scale=0.1)\n",
        "model_fb_final.fit(train_ev_data_fb_final)"
      ],
      "metadata": {
        "colab": {
          "base_uri": "https://localhost:8080/"
        },
        "id": "15Ei6-CYBdz2",
        "outputId": "f76eb294-af20-46e5-a68d-f2ff26d4aed5"
      },
      "execution_count": 2140,
      "outputs": [
        {
          "output_type": "stream",
          "name": "stderr",
          "text": [
            "INFO:fbprophet:Disabling weekly seasonality. Run prophet with weekly_seasonality=True to override this.\n",
            "INFO:fbprophet:Disabling daily seasonality. Run prophet with daily_seasonality=True to override this.\n",
            "INFO:fbprophet:n_changepoints greater than number of observations. Using 7.\n"
          ]
        },
        {
          "output_type": "execute_result",
          "data": {
            "text/plain": [
              "<fbprophet.forecaster.Prophet at 0x7f2e6ca5f750>"
            ]
          },
          "metadata": {},
          "execution_count": 2140
        }
      ]
    },
    {
      "cell_type": "markdown",
      "source": [
        "**Forecasting and Visualizing EV Count in Bristol for the Future:**"
      ],
      "metadata": {
        "id": "qGAMbEtgiPMo"
      }
    },
    {
      "cell_type": "code",
      "source": [
        "future_EV_Count_timestamps=pd.date_range(start='2021/10/01',end='2028/07/01',freq='BQS')\n",
        "for each in future_EV_Count_timestamps:\n",
        "  each=each.replace(day=1)\n",
        "future_EV_Count_timestamps=pd.DataFrame(future_EV_Count_timestamps)\n",
        "future_EV_Count_timestamps.columns=['ds']\n"
      ],
      "metadata": {
        "id": "ALi-uuPy4h9L"
      },
      "execution_count": 2141,
      "outputs": []
    },
    {
      "cell_type": "code",
      "source": [
        "forecast_fb_xg_EV_Count_future=model_fb_final.predict(future_EV_Count_timestamps)"
      ],
      "metadata": {
        "id": "z5fLQQad5l8_"
      },
      "execution_count": 2142,
      "outputs": []
    },
    {
      "cell_type": "code",
      "source": [
        "forecast_fb_xg_EV_Count_future=forecast_fb_xg_EV_Count_future[['ds','yhat']]"
      ],
      "metadata": {
        "id": "yv3GxSWU5zKr"
      },
      "execution_count": 2143,
      "outputs": []
    },
    {
      "cell_type": "code",
      "source": [
        "forecast_fb_xg_EV_Count_future.rename(columns={'yhat':'y'},inplace=True)"
      ],
      "metadata": {
        "id": "XXXV6g92-Uek"
      },
      "execution_count": 2144,
      "outputs": []
    },
    {
      "cell_type": "code",
      "source": [
        "ev_data_final =ev_data_fb.append(forecast_fb_xg_EV_Count_future, ignore_index=True)"
      ],
      "metadata": {
        "id": "phvlvamg75e6"
      },
      "execution_count": 2145,
      "outputs": []
    },
    {
      "cell_type": "code",
      "source": [
        "import plotly.offline as pyo\n",
        "import plotly.graph_objs as go\n",
        "trace1=go.Scatter(x=forecast_fb_xg_EV_Count_future.ds,\n",
        "                  y=forecast_fb_xg_EV_Count_future.y,\n",
        "                  mode='markers+lines',\n",
        "                  marker=dict(color='green', size=4),\n",
        "                  line=dict(color='green', width=2),\n",
        "                  name='Predicted EV Count'\n",
        "                  )\n",
        "trace0=go.Scatter(x=ev_data_final.ds,\n",
        "                  y=ev_data_final.y,\n",
        "                  name='EV Count 2014-2021',\n",
        "                  mode='markers+lines',\n",
        "                  marker=dict(color='#FFC048', size=4),\n",
        "                  line=dict(color='#FFC048', width=2),\n",
        "                  )\n",
        "data=[trace0,trace1]\n",
        "layout=go.Layout(title='Predicted EV Count in Bristol for the Coming 6 Years',xaxis_title=\"Month\",yaxis_title=\"EV Count\",height=500,width=900)\n",
        "figure=go.Figure(data=data,layout=layout)\n",
        "figure.update_layout(plot_bgcolor=\"white\")\n",
        "figure.update_yaxes(showgrid=True, gridwidth=0, gridcolor='rgb(230,230,230)')\n",
        "figure.show()"
      ],
      "metadata": {
        "colab": {
          "base_uri": "https://localhost:8080/",
          "height": 517
        },
        "id": "Fc_5fy-sQErj",
        "outputId": "d5148bd8-edde-4c10-b787-ea422e13b1cf"
      },
      "execution_count": 2149,
      "outputs": [
        {
          "output_type": "display_data",
          "data": {
            "text/html": [
              "<html>\n",
              "<head><meta charset=\"utf-8\" /></head>\n",
              "<body>\n",
              "    <div>            <script src=\"https://cdnjs.cloudflare.com/ajax/libs/mathjax/2.7.5/MathJax.js?config=TeX-AMS-MML_SVG\"></script><script type=\"text/javascript\">if (window.MathJax) {MathJax.Hub.Config({SVG: {font: \"STIX-Web\"}});}</script>                <script type=\"text/javascript\">window.PlotlyConfig = {MathJaxConfig: 'local'};</script>\n",
              "        <script src=\"https://cdn.plot.ly/plotly-2.8.3.min.js\"></script>                <div id=\"aa48be98-a2f0-43fc-ae61-1a57b26bd964\" class=\"plotly-graph-div\" style=\"height:500px; width:900px;\"></div>            <script type=\"text/javascript\">                                    window.PLOTLYENV=window.PLOTLYENV || {};                                    if (document.getElementById(\"aa48be98-a2f0-43fc-ae61-1a57b26bd964\")) {                    Plotly.newPlot(                        \"aa48be98-a2f0-43fc-ae61-1a57b26bd964\",                        [{\"line\":{\"color\":\"#FFC048\",\"width\":2},\"marker\":{\"color\":\"#FFC048\",\"size\":4},\"mode\":\"markers+lines\",\"name\":\"EV Count 2014-2021\",\"x\":[\"2014-01-01T00:00:00\",\"2014-04-01T00:00:00\",\"2014-07-01T00:00:00\",\"2014-10-01T00:00:00\",\"2015-01-01T00:00:00\",\"2015-04-01T00:00:00\",\"2015-07-01T00:00:00\",\"2015-10-01T00:00:00\",\"2016-01-01T00:00:00\",\"2016-04-01T00:00:00\",\"2016-07-01T00:00:00\",\"2016-10-01T00:00:00\",\"2017-01-01T00:00:00\",\"2017-04-01T00:00:00\",\"2017-07-01T00:00:00\",\"2017-10-01T00:00:00\",\"2018-01-01T00:00:00\",\"2018-04-01T00:00:00\",\"2018-07-01T00:00:00\",\"2018-10-01T00:00:00\",\"2019-01-01T00:00:00\",\"2019-04-01T00:00:00\",\"2019-07-01T00:00:00\",\"2019-10-01T00:00:00\",\"2020-01-01T00:00:00\",\"2020-04-01T00:00:00\",\"2020-07-01T00:00:00\",\"2020-10-01T00:00:00\",\"2021-01-01T00:00:00\",\"2021-04-01T00:00:00\",\"2021-07-01T00:00:00\",\"2021-10-01T00:00:00\",\"2022-01-03T00:00:00\",\"2022-04-01T00:00:00\",\"2022-07-01T00:00:00\",\"2022-10-03T00:00:00\",\"2023-01-02T00:00:00\",\"2023-04-03T00:00:00\",\"2023-07-03T00:00:00\",\"2023-10-02T00:00:00\",\"2024-01-01T00:00:00\",\"2024-04-01T00:00:00\",\"2024-07-01T00:00:00\",\"2024-10-01T00:00:00\",\"2025-01-01T00:00:00\",\"2025-04-01T00:00:00\",\"2025-07-01T00:00:00\",\"2025-10-01T00:00:00\",\"2026-01-01T00:00:00\",\"2026-04-01T00:00:00\",\"2026-07-01T00:00:00\",\"2026-10-01T00:00:00\",\"2027-01-01T00:00:00\",\"2027-04-01T00:00:00\",\"2027-07-01T00:00:00\",\"2027-10-01T00:00:00\",\"2028-01-03T00:00:00\",\"2028-04-03T00:00:00\"],\"y\":[128,142,170,210,259,283,321,350,424,498,571,668,786,841,567,465,548,608,641,693,744,811,925,1057,1221,1306,1521,1747,1881,2134,2405,2682.9687208295136,2712.539373252314,3129.6840707013284,3372.8975643552326,3800.296306489978,3777.9291825983373,3895.155218421883,4330.723908063712,4658.689806636894,4834.224066758721,5006.018868621512,5304.738797216485,5604.575704594054,5748.757865145026,6001.757865145009,6272.757865145253,6550.726585974657,6733.5834024575315,6997.441935846409,7240.655429500359,7497.161231510027,7717.996141789917,7993.04514935281,8208.427975978073,8443.897819329975,8554.50707619457,8644.461109536696],\"type\":\"scatter\"},{\"line\":{\"color\":\"green\",\"width\":2},\"marker\":{\"color\":\"green\",\"size\":4},\"mode\":\"markers+lines\",\"name\":\"Predicted EV Count\",\"x\":[\"2021-10-01T00:00:00\",\"2022-01-03T00:00:00\",\"2022-04-01T00:00:00\",\"2022-07-01T00:00:00\",\"2022-10-03T00:00:00\",\"2023-01-02T00:00:00\",\"2023-04-03T00:00:00\",\"2023-07-03T00:00:00\",\"2023-10-02T00:00:00\",\"2024-01-01T00:00:00\",\"2024-04-01T00:00:00\",\"2024-07-01T00:00:00\",\"2024-10-01T00:00:00\",\"2025-01-01T00:00:00\",\"2025-04-01T00:00:00\",\"2025-07-01T00:00:00\",\"2025-10-01T00:00:00\",\"2026-01-01T00:00:00\",\"2026-04-01T00:00:00\",\"2026-07-01T00:00:00\",\"2026-10-01T00:00:00\",\"2027-01-01T00:00:00\",\"2027-04-01T00:00:00\",\"2027-07-01T00:00:00\",\"2027-10-01T00:00:00\",\"2028-01-03T00:00:00\",\"2028-04-03T00:00:00\"],\"y\":[2682.9687208295136,2712.539373252314,3129.6840707013284,3372.8975643552326,3800.296306489978,3777.9291825983373,3895.155218421883,4330.723908063712,4658.689806636894,4834.224066758721,5006.018868621512,5304.738797216485,5604.575704594054,5748.757865145026,6001.757865145009,6272.757865145253,6550.726585974657,6733.5834024575315,6997.441935846409,7240.655429500359,7497.161231510027,7717.996141789917,7993.04514935281,8208.427975978073,8443.897819329975,8554.50707619457,8644.461109536696],\"type\":\"scatter\"}],                        {\"height\":500,\"title\":{\"text\":\"Predicted EV Count in Bristol for the Coming 6 Years\"},\"width\":900,\"xaxis\":{\"title\":{\"text\":\"Month\"}},\"yaxis\":{\"title\":{\"text\":\"EV Count\"},\"showgrid\":true,\"gridwidth\":0,\"gridcolor\":\"rgb(230,230,230)\"},\"template\":{\"data\":{\"bar\":[{\"error_x\":{\"color\":\"#2a3f5f\"},\"error_y\":{\"color\":\"#2a3f5f\"},\"marker\":{\"line\":{\"color\":\"#E5ECF6\",\"width\":0.5},\"pattern\":{\"fillmode\":\"overlay\",\"size\":10,\"solidity\":0.2}},\"type\":\"bar\"}],\"barpolar\":[{\"marker\":{\"line\":{\"color\":\"#E5ECF6\",\"width\":0.5},\"pattern\":{\"fillmode\":\"overlay\",\"size\":10,\"solidity\":0.2}},\"type\":\"barpolar\"}],\"carpet\":[{\"aaxis\":{\"endlinecolor\":\"#2a3f5f\",\"gridcolor\":\"white\",\"linecolor\":\"white\",\"minorgridcolor\":\"white\",\"startlinecolor\":\"#2a3f5f\"},\"baxis\":{\"endlinecolor\":\"#2a3f5f\",\"gridcolor\":\"white\",\"linecolor\":\"white\",\"minorgridcolor\":\"white\",\"startlinecolor\":\"#2a3f5f\"},\"type\":\"carpet\"}],\"choropleth\":[{\"colorbar\":{\"outlinewidth\":0,\"ticks\":\"\"},\"type\":\"choropleth\"}],\"contour\":[{\"colorbar\":{\"outlinewidth\":0,\"ticks\":\"\"},\"colorscale\":[[0.0,\"#0d0887\"],[0.1111111111111111,\"#46039f\"],[0.2222222222222222,\"#7201a8\"],[0.3333333333333333,\"#9c179e\"],[0.4444444444444444,\"#bd3786\"],[0.5555555555555556,\"#d8576b\"],[0.6666666666666666,\"#ed7953\"],[0.7777777777777778,\"#fb9f3a\"],[0.8888888888888888,\"#fdca26\"],[1.0,\"#f0f921\"]],\"type\":\"contour\"}],\"contourcarpet\":[{\"colorbar\":{\"outlinewidth\":0,\"ticks\":\"\"},\"type\":\"contourcarpet\"}],\"heatmap\":[{\"colorbar\":{\"outlinewidth\":0,\"ticks\":\"\"},\"colorscale\":[[0.0,\"#0d0887\"],[0.1111111111111111,\"#46039f\"],[0.2222222222222222,\"#7201a8\"],[0.3333333333333333,\"#9c179e\"],[0.4444444444444444,\"#bd3786\"],[0.5555555555555556,\"#d8576b\"],[0.6666666666666666,\"#ed7953\"],[0.7777777777777778,\"#fb9f3a\"],[0.8888888888888888,\"#fdca26\"],[1.0,\"#f0f921\"]],\"type\":\"heatmap\"}],\"heatmapgl\":[{\"colorbar\":{\"outlinewidth\":0,\"ticks\":\"\"},\"colorscale\":[[0.0,\"#0d0887\"],[0.1111111111111111,\"#46039f\"],[0.2222222222222222,\"#7201a8\"],[0.3333333333333333,\"#9c179e\"],[0.4444444444444444,\"#bd3786\"],[0.5555555555555556,\"#d8576b\"],[0.6666666666666666,\"#ed7953\"],[0.7777777777777778,\"#fb9f3a\"],[0.8888888888888888,\"#fdca26\"],[1.0,\"#f0f921\"]],\"type\":\"heatmapgl\"}],\"histogram\":[{\"marker\":{\"pattern\":{\"fillmode\":\"overlay\",\"size\":10,\"solidity\":0.2}},\"type\":\"histogram\"}],\"histogram2d\":[{\"colorbar\":{\"outlinewidth\":0,\"ticks\":\"\"},\"colorscale\":[[0.0,\"#0d0887\"],[0.1111111111111111,\"#46039f\"],[0.2222222222222222,\"#7201a8\"],[0.3333333333333333,\"#9c179e\"],[0.4444444444444444,\"#bd3786\"],[0.5555555555555556,\"#d8576b\"],[0.6666666666666666,\"#ed7953\"],[0.7777777777777778,\"#fb9f3a\"],[0.8888888888888888,\"#fdca26\"],[1.0,\"#f0f921\"]],\"type\":\"histogram2d\"}],\"histogram2dcontour\":[{\"colorbar\":{\"outlinewidth\":0,\"ticks\":\"\"},\"colorscale\":[[0.0,\"#0d0887\"],[0.1111111111111111,\"#46039f\"],[0.2222222222222222,\"#7201a8\"],[0.3333333333333333,\"#9c179e\"],[0.4444444444444444,\"#bd3786\"],[0.5555555555555556,\"#d8576b\"],[0.6666666666666666,\"#ed7953\"],[0.7777777777777778,\"#fb9f3a\"],[0.8888888888888888,\"#fdca26\"],[1.0,\"#f0f921\"]],\"type\":\"histogram2dcontour\"}],\"mesh3d\":[{\"colorbar\":{\"outlinewidth\":0,\"ticks\":\"\"},\"type\":\"mesh3d\"}],\"parcoords\":[{\"line\":{\"colorbar\":{\"outlinewidth\":0,\"ticks\":\"\"}},\"type\":\"parcoords\"}],\"pie\":[{\"automargin\":true,\"type\":\"pie\"}],\"scatter\":[{\"marker\":{\"colorbar\":{\"outlinewidth\":0,\"ticks\":\"\"}},\"type\":\"scatter\"}],\"scatter3d\":[{\"line\":{\"colorbar\":{\"outlinewidth\":0,\"ticks\":\"\"}},\"marker\":{\"colorbar\":{\"outlinewidth\":0,\"ticks\":\"\"}},\"type\":\"scatter3d\"}],\"scattercarpet\":[{\"marker\":{\"colorbar\":{\"outlinewidth\":0,\"ticks\":\"\"}},\"type\":\"scattercarpet\"}],\"scattergeo\":[{\"marker\":{\"colorbar\":{\"outlinewidth\":0,\"ticks\":\"\"}},\"type\":\"scattergeo\"}],\"scattergl\":[{\"marker\":{\"colorbar\":{\"outlinewidth\":0,\"ticks\":\"\"}},\"type\":\"scattergl\"}],\"scattermapbox\":[{\"marker\":{\"colorbar\":{\"outlinewidth\":0,\"ticks\":\"\"}},\"type\":\"scattermapbox\"}],\"scatterpolar\":[{\"marker\":{\"colorbar\":{\"outlinewidth\":0,\"ticks\":\"\"}},\"type\":\"scatterpolar\"}],\"scatterpolargl\":[{\"marker\":{\"colorbar\":{\"outlinewidth\":0,\"ticks\":\"\"}},\"type\":\"scatterpolargl\"}],\"scatterternary\":[{\"marker\":{\"colorbar\":{\"outlinewidth\":0,\"ticks\":\"\"}},\"type\":\"scatterternary\"}],\"surface\":[{\"colorbar\":{\"outlinewidth\":0,\"ticks\":\"\"},\"colorscale\":[[0.0,\"#0d0887\"],[0.1111111111111111,\"#46039f\"],[0.2222222222222222,\"#7201a8\"],[0.3333333333333333,\"#9c179e\"],[0.4444444444444444,\"#bd3786\"],[0.5555555555555556,\"#d8576b\"],[0.6666666666666666,\"#ed7953\"],[0.7777777777777778,\"#fb9f3a\"],[0.8888888888888888,\"#fdca26\"],[1.0,\"#f0f921\"]],\"type\":\"surface\"}],\"table\":[{\"cells\":{\"fill\":{\"color\":\"#EBF0F8\"},\"line\":{\"color\":\"white\"}},\"header\":{\"fill\":{\"color\":\"#C8D4E3\"},\"line\":{\"color\":\"white\"}},\"type\":\"table\"}]},\"layout\":{\"annotationdefaults\":{\"arrowcolor\":\"#2a3f5f\",\"arrowhead\":0,\"arrowwidth\":1},\"autotypenumbers\":\"strict\",\"coloraxis\":{\"colorbar\":{\"outlinewidth\":0,\"ticks\":\"\"}},\"colorscale\":{\"diverging\":[[0,\"#8e0152\"],[0.1,\"#c51b7d\"],[0.2,\"#de77ae\"],[0.3,\"#f1b6da\"],[0.4,\"#fde0ef\"],[0.5,\"#f7f7f7\"],[0.6,\"#e6f5d0\"],[0.7,\"#b8e186\"],[0.8,\"#7fbc41\"],[0.9,\"#4d9221\"],[1,\"#276419\"]],\"sequential\":[[0.0,\"#0d0887\"],[0.1111111111111111,\"#46039f\"],[0.2222222222222222,\"#7201a8\"],[0.3333333333333333,\"#9c179e\"],[0.4444444444444444,\"#bd3786\"],[0.5555555555555556,\"#d8576b\"],[0.6666666666666666,\"#ed7953\"],[0.7777777777777778,\"#fb9f3a\"],[0.8888888888888888,\"#fdca26\"],[1.0,\"#f0f921\"]],\"sequentialminus\":[[0.0,\"#0d0887\"],[0.1111111111111111,\"#46039f\"],[0.2222222222222222,\"#7201a8\"],[0.3333333333333333,\"#9c179e\"],[0.4444444444444444,\"#bd3786\"],[0.5555555555555556,\"#d8576b\"],[0.6666666666666666,\"#ed7953\"],[0.7777777777777778,\"#fb9f3a\"],[0.8888888888888888,\"#fdca26\"],[1.0,\"#f0f921\"]]},\"colorway\":[\"#636efa\",\"#EF553B\",\"#00cc96\",\"#ab63fa\",\"#FFA15A\",\"#19d3f3\",\"#FF6692\",\"#B6E880\",\"#FF97FF\",\"#FECB52\"],\"font\":{\"color\":\"#2a3f5f\"},\"geo\":{\"bgcolor\":\"white\",\"lakecolor\":\"white\",\"landcolor\":\"#E5ECF6\",\"showlakes\":true,\"showland\":true,\"subunitcolor\":\"white\"},\"hoverlabel\":{\"align\":\"left\"},\"hovermode\":\"closest\",\"mapbox\":{\"style\":\"light\"},\"paper_bgcolor\":\"white\",\"plot_bgcolor\":\"#E5ECF6\",\"polar\":{\"angularaxis\":{\"gridcolor\":\"white\",\"linecolor\":\"white\",\"ticks\":\"\"},\"bgcolor\":\"#E5ECF6\",\"radialaxis\":{\"gridcolor\":\"white\",\"linecolor\":\"white\",\"ticks\":\"\"}},\"scene\":{\"xaxis\":{\"backgroundcolor\":\"#E5ECF6\",\"gridcolor\":\"white\",\"gridwidth\":2,\"linecolor\":\"white\",\"showbackground\":true,\"ticks\":\"\",\"zerolinecolor\":\"white\"},\"yaxis\":{\"backgroundcolor\":\"#E5ECF6\",\"gridcolor\":\"white\",\"gridwidth\":2,\"linecolor\":\"white\",\"showbackground\":true,\"ticks\":\"\",\"zerolinecolor\":\"white\"},\"zaxis\":{\"backgroundcolor\":\"#E5ECF6\",\"gridcolor\":\"white\",\"gridwidth\":2,\"linecolor\":\"white\",\"showbackground\":true,\"ticks\":\"\",\"zerolinecolor\":\"white\"}},\"shapedefaults\":{\"line\":{\"color\":\"#2a3f5f\"}},\"ternary\":{\"aaxis\":{\"gridcolor\":\"white\",\"linecolor\":\"white\",\"ticks\":\"\"},\"baxis\":{\"gridcolor\":\"white\",\"linecolor\":\"white\",\"ticks\":\"\"},\"bgcolor\":\"#E5ECF6\",\"caxis\":{\"gridcolor\":\"white\",\"linecolor\":\"white\",\"ticks\":\"\"}},\"title\":{\"x\":0.05},\"xaxis\":{\"automargin\":true,\"gridcolor\":\"white\",\"linecolor\":\"white\",\"ticks\":\"\",\"title\":{\"standoff\":15},\"zerolinecolor\":\"white\",\"zerolinewidth\":2},\"yaxis\":{\"automargin\":true,\"gridcolor\":\"white\",\"linecolor\":\"white\",\"ticks\":\"\",\"title\":{\"standoff\":15},\"zerolinecolor\":\"white\",\"zerolinewidth\":2}}},\"plot_bgcolor\":\"white\"},                        {\"responsive\": true}                    ).then(function(){\n",
              "                            \n",
              "var gd = document.getElementById('aa48be98-a2f0-43fc-ae61-1a57b26bd964');\n",
              "var x = new MutationObserver(function (mutations, observer) {{\n",
              "        var display = window.getComputedStyle(gd).display;\n",
              "        if (!display || display === 'none') {{\n",
              "            console.log([gd, 'removed!']);\n",
              "            Plotly.purge(gd);\n",
              "            observer.disconnect();\n",
              "        }}\n",
              "}});\n",
              "\n",
              "// Listen for the removal of the full notebook cells\n",
              "var notebookContainer = gd.closest('#notebook-container');\n",
              "if (notebookContainer) {{\n",
              "    x.observe(notebookContainer, {childList: true});\n",
              "}}\n",
              "\n",
              "// Listen for the clearing of the current output cell\n",
              "var outputEl = gd.closest('.output');\n",
              "if (outputEl) {{\n",
              "    x.observe(outputEl, {childList: true});\n",
              "}}\n",
              "\n",
              "                        })                };                            </script>        </div>\n",
              "</body>\n",
              "</html>"
            ]
          },
          "metadata": {}
        }
      ]
    }
  ]
}